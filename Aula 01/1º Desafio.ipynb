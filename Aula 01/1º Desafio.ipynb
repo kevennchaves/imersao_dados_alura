{
 "cells": [
  {
   "cell_type": "code",
   "execution_count": 317,
   "id": "dc1494ff",
   "metadata": {},
   "outputs": [
    {
     "data": {
      "text/html": [
       "<div>\n",
       "<style scoped>\n",
       "    .dataframe tbody tr th:only-of-type {\n",
       "        vertical-align: middle;\n",
       "    }\n",
       "\n",
       "    .dataframe tbody tr th {\n",
       "        vertical-align: top;\n",
       "    }\n",
       "\n",
       "    .dataframe thead th {\n",
       "        text-align: right;\n",
       "    }\n",
       "</style>\n",
       "<table border=\"1\" class=\"dataframe\">\n",
       "  <thead>\n",
       "    <tr style=\"text-align: right;\">\n",
       "      <th></th>\n",
       "      <th>Rua</th>\n",
       "      <th>Bairro</th>\n",
       "      <th>Cidade</th>\n",
       "      <th>Metragem</th>\n",
       "      <th>Quartos</th>\n",
       "      <th>Banheiros</th>\n",
       "      <th>Vagas</th>\n",
       "      <th>Valor</th>\n",
       "    </tr>\n",
       "  </thead>\n",
       "  <tbody>\n",
       "    <tr>\n",
       "      <th>0</th>\n",
       "      <td>Avenida Itacira, 255</td>\n",
       "      <td>Planalto Paulista</td>\n",
       "      <td>São Paulo</td>\n",
       "      <td>1000</td>\n",
       "      <td>4</td>\n",
       "      <td>8</td>\n",
       "      <td>6</td>\n",
       "      <td>R$ 7.000.000</td>\n",
       "    </tr>\n",
       "    <tr>\n",
       "      <th>1</th>\n",
       "      <td>Rua Aurelia Perez Alvarez, 42</td>\n",
       "      <td>Jardim dos Estados</td>\n",
       "      <td>São Paulo</td>\n",
       "      <td>496</td>\n",
       "      <td>4</td>\n",
       "      <td>4</td>\n",
       "      <td>4</td>\n",
       "      <td>R$ 3.700.000</td>\n",
       "    </tr>\n",
       "    <tr>\n",
       "      <th>2</th>\n",
       "      <td>Rua Alba Valdez</td>\n",
       "      <td>Jardim Reimberg</td>\n",
       "      <td>São Paulo</td>\n",
       "      <td>125</td>\n",
       "      <td>4</td>\n",
       "      <td>3</td>\n",
       "      <td>2</td>\n",
       "      <td>R$ 380.000</td>\n",
       "    </tr>\n",
       "    <tr>\n",
       "      <th>3</th>\n",
       "      <td>NaN</td>\n",
       "      <td>Jardim Morumbi</td>\n",
       "      <td>São Paulo</td>\n",
       "      <td>310</td>\n",
       "      <td>3</td>\n",
       "      <td>2</td>\n",
       "      <td>4</td>\n",
       "      <td>R$ 685.000</td>\n",
       "    </tr>\n",
       "    <tr>\n",
       "      <th>4</th>\n",
       "      <td>Rua Tobias Barreto, 195</td>\n",
       "      <td>Mooca</td>\n",
       "      <td>São Paulo</td>\n",
       "      <td>100</td>\n",
       "      <td>3</td>\n",
       "      <td>2</td>\n",
       "      <td>2</td>\n",
       "      <td>R$ 540.000</td>\n",
       "    </tr>\n",
       "  </tbody>\n",
       "</table>\n",
       "</div>"
      ],
      "text/plain": [
       "                              Rua              Bairro  ... Vagas         Valor\n",
       "0           Avenida Itacira, 255    Planalto Paulista  ...     6  R$ 7.000.000\n",
       "1  Rua Aurelia Perez Alvarez, 42   Jardim dos Estados  ...     4  R$ 3.700.000\n",
       "2                 Rua Alba Valdez     Jardim Reimberg  ...     2    R$ 380.000\n",
       "3                             NaN      Jardim Morumbi  ...     4    R$ 685.000\n",
       "4        Rua Tobias Barreto, 195                Mooca  ...     2    R$ 540.000\n",
       "\n",
       "[5 rows x 8 columns]"
      ]
     },
     "execution_count": 317,
     "metadata": {},
     "output_type": "execute_result"
    }
   ],
   "source": [
    "import pandas as pd \n",
    "url = 'https://gist.githubusercontent.com/tgcsantos/3bdb29eba6ce391e90df2b72205ba891/raw/22fa920e80c9fa209a9fccc8b52d74cc95d1599b/dados_imoveis.csv'\n",
    "data = pd.read_csv(url)\n",
    "data.head()"
   ]
  },
  {
   "cell_type": "markdown",
   "id": "48241cea",
   "metadata": {},
   "source": [
    "1 - Realizar a média da metragem para cada um dos bairros. (Proposto pelo Paulo)"
   ]
  },
  {
   "cell_type": "code",
   "execution_count": 318,
   "id": "a035098b",
   "metadata": {},
   "outputs": [
    {
     "data": {
      "text/html": [
       "<div>\n",
       "<style scoped>\n",
       "    .dataframe tbody tr th:only-of-type {\n",
       "        vertical-align: middle;\n",
       "    }\n",
       "\n",
       "    .dataframe tbody tr th {\n",
       "        vertical-align: top;\n",
       "    }\n",
       "\n",
       "    .dataframe thead th {\n",
       "        text-align: right;\n",
       "    }\n",
       "</style>\n",
       "<table border=\"1\" class=\"dataframe\">\n",
       "  <thead>\n",
       "    <tr style=\"text-align: right;\">\n",
       "      <th></th>\n",
       "      <th>Metragem</th>\n",
       "    </tr>\n",
       "    <tr>\n",
       "      <th>Bairro</th>\n",
       "      <th></th>\n",
       "    </tr>\n",
       "  </thead>\n",
       "  <tbody>\n",
       "    <tr>\n",
       "      <th>Aclimação</th>\n",
       "      <td>253.056818</td>\n",
       "    </tr>\n",
       "    <tr>\n",
       "      <th>Alto da Boa Vista</th>\n",
       "      <td>418.875000</td>\n",
       "    </tr>\n",
       "    <tr>\n",
       "      <th>Alto da Lapa</th>\n",
       "      <td>294.337209</td>\n",
       "    </tr>\n",
       "    <tr>\n",
       "      <th>Alto da Mooca</th>\n",
       "      <td>270.050000</td>\n",
       "    </tr>\n",
       "    <tr>\n",
       "      <th>Alto de Pinheiros</th>\n",
       "      <td>433.444988</td>\n",
       "    </tr>\n",
       "    <tr>\n",
       "      <th>...</th>\n",
       "      <td>...</td>\n",
       "    </tr>\n",
       "    <tr>\n",
       "      <th>Vila Água Funda</th>\n",
       "      <td>152.200000</td>\n",
       "    </tr>\n",
       "    <tr>\n",
       "      <th>Água Branca</th>\n",
       "      <td>191.000000</td>\n",
       "    </tr>\n",
       "    <tr>\n",
       "      <th>Água Fria</th>\n",
       "      <td>165.416667</td>\n",
       "    </tr>\n",
       "    <tr>\n",
       "      <th>Água Funda</th>\n",
       "      <td>139.000000</td>\n",
       "    </tr>\n",
       "    <tr>\n",
       "      <th>Água Rasa</th>\n",
       "      <td>340.250000</td>\n",
       "    </tr>\n",
       "  </tbody>\n",
       "</table>\n",
       "<p>701 rows × 1 columns</p>\n",
       "</div>"
      ],
      "text/plain": [
       "                     Metragem\n",
       "Bairro                       \n",
       "Aclimação          253.056818\n",
       "Alto da Boa Vista  418.875000\n",
       "Alto da Lapa       294.337209\n",
       "Alto da Mooca      270.050000\n",
       "Alto de Pinheiros  433.444988\n",
       "...                       ...\n",
       "Vila Água Funda    152.200000\n",
       "Água Branca        191.000000\n",
       "Água Fria          165.416667\n",
       "Água Funda         139.000000\n",
       "Água Rasa          340.250000\n",
       "\n",
       "[701 rows x 1 columns]"
      ]
     },
     "execution_count": 318,
     "metadata": {},
     "output_type": "execute_result"
    }
   ],
   "source": [
    "distrito = data[['Bairro', 'Metragem']]\n",
    "media_bairros = distrito.groupby([\"Bairro\"]).mean()\n",
    "media_bairros"
   ]
  },
  {
   "cell_type": "markdown",
   "id": "76e71023",
   "metadata": {},
   "source": [
    "2 - Duas formas de selecionar os dados por bairro (consultar os métodos na documentação do Pandas). (Proposto pelo Thiago)"
   ]
  },
  {
   "cell_type": "code",
   "execution_count": 319,
   "id": "61acb78f",
   "metadata": {},
   "outputs": [
    {
     "data": {
      "text/plain": [
       "0         Planalto Paulista\n",
       "1        Jardim dos Estados\n",
       "2           Jardim Reimberg\n",
       "3            Jardim Morumbi\n",
       "4                     Mooca\n",
       "                ...        \n",
       "10003            Vila Sofia\n",
       "10004       Bosque da Saúde\n",
       "10005         Vila da Saúde\n",
       "10006         Vila Oratório\n",
       "10007           Vila Alpina\n",
       "Name: Bairro, Length: 10008, dtype: object"
      ]
     },
     "execution_count": 319,
     "metadata": {},
     "output_type": "execute_result"
    }
   ],
   "source": [
    "# 1 forma:\n",
    "\n",
    "select_dados = data['Bairro']\n",
    "select_dados"
   ]
  },
  {
   "cell_type": "code",
   "execution_count": 320,
   "id": "0bfbc5de",
   "metadata": {},
   "outputs": [
    {
     "data": {
      "text/plain": [
       "Bairro\n",
       "Aclimação             88\n",
       "Alto da Boa Vista      8\n",
       "Alto da Lapa          86\n",
       "Alto da Mooca         20\n",
       "Alto de Pinheiros    409\n",
       "                    ... \n",
       "Vila Água Funda        5\n",
       "Água Branca           13\n",
       "Água Fria             12\n",
       "Água Funda             2\n",
       "Água Rasa              8\n",
       "Length: 701, dtype: int64"
      ]
     },
     "execution_count": 320,
     "metadata": {},
     "output_type": "execute_result"
    }
   ],
   "source": [
    "#2 forma:\n",
    "select_dados = data.groupby(['Bairro']).size()\n",
    "select_dados"
   ]
  },
  {
   "cell_type": "markdown",
   "id": "246e9054",
   "metadata": {},
   "source": [
    "3 - Explorar alguns gráficos na documentação e aplicar nas demais colunas do DF, assim como tentar colocar alguma conclusão. (Proposto pelo Thiago)"
   ]
  },
  {
   "cell_type": "code",
   "execution_count": 321,
   "id": "c5fd716b",
   "metadata": {},
   "outputs": [
    {
     "data": {
      "text/plain": [
       "<AxesSubplot:xlabel='Bairro'>"
      ]
     },
     "execution_count": 321,
     "metadata": {},
     "output_type": "execute_result"
    },
    {
     "data": {
      "image/png": "[encoded data removed]",
      "text/plain": [
       "<Figure size 432x288 with 1 Axes>"
      ]
     },
     "metadata": {
      "needs_background": "light"
     },
     "output_type": "display_data"
    }
   ],
   "source": [
    "'''\n",
    "O Gráfico o mesmo utilizado na aula 1\n",
    "mostra os 10 primeiros bairros que tem a maior metragem \n",
    "de imoveis a venda\n",
    "'''\n",
    "\n",
    "metragem_bairros = data[['Bairro', 'Metragem']]\n",
    "media_bairros.head(10).plot.bar()\n"
   ]
  },
  {
   "cell_type": "code",
   "execution_count": 322,
   "id": "d39de52e",
   "metadata": {},
   "outputs": [
    {
     "data": {
      "text/plain": [
       "<AxesSubplot:>"
      ]
     },
     "execution_count": 322,
     "metadata": {},
     "output_type": "execute_result"
    },
    {
     "data": {
      "image/png": "[encoded data removed]",
      "text/plain": [
       "<Figure size 864x576 with 1 Axes>"
      ]
     },
     "metadata": {
      "needs_background": "light"
     },
     "output_type": "display_data"
    }
   ],
   "source": [
    "'''\n",
    "O boxplot mostra se existem outliers dentro de uma series ou df\n",
    "no caso estamos vendo a quantidade de banheiros dentro dos imoveis\n",
    "percebe-se a quantidade adequada, entretanto existem outliers\n",
    "'''\n",
    "\n",
    "data['Banheiros'].plot.box(color = 'Blue', figsize=(12,8))"
   ]
  },
  {
   "cell_type": "code",
   "execution_count": 323,
   "id": "cf741277",
   "metadata": {},
   "outputs": [
    {
     "data": {
      "text/plain": [
       "'\\nQuantidade de imoveis por preço de venda no dataset\\n\\n'"
      ]
     },
     "execution_count": 323,
     "metadata": {},
     "output_type": "execute_result"
    },
    {
     "data": {
      "image/png": "[encoded data removed]",
      "text/plain": [
       "<Figure size 864x504 with 1 Axes>"
      ]
     },
     "metadata": {
      "needs_background": "light"
     },
     "output_type": "display_data"
    }
   ],
   "source": [
    "valores_imoveis = data.groupby(['Valor']).size()\n",
    "valores_imoveis.head(10).plot.line(figsize=(12,7))\n",
    "\n",
    "'''\n",
    "Quantidade de imoveis por preço de venda no dataset\n",
    "\n",
    "'''"
   ]
  },
  {
   "cell_type": "code",
   "execution_count": 324,
   "id": "f2f5550c",
   "metadata": {},
   "outputs": [
    {
     "data": {
      "text/plain": [
       "Valor\n",
       "R$ 1.000.000    74\n",
       "R$ 1.009.900     1\n",
       "R$ 1.010.000     7\n",
       "R$ 1.011.000     3\n",
       "R$ 1.020.000     7\n",
       "                ..\n",
       "R$ 997.000       3\n",
       "R$ 998.000       1\n",
       "R$ 999.000       4\n",
       "R$ 999.900       1\n",
       "R$ 999.999       1\n",
       "Length: 1041, dtype: int64"
      ]
     },
     "execution_count": 324,
     "metadata": {},
     "output_type": "execute_result"
    }
   ],
   "source": [
    "valores_imoveis"
   ]
  },
  {
   "cell_type": "markdown",
   "id": "3895f787",
   "metadata": {},
   "source": [
    "4 - Pegar outras estatísticas dos dados (como média, mediana, mim, max). (Proposto pela Vivian)"
   ]
  },
  {
   "cell_type": "code",
   "execution_count": 325,
   "id": "43816491",
   "metadata": {},
   "outputs": [
    {
     "name": "stdout",
     "output_type": "stream",
     "text": [
      "Media:  442.30065947242207 \n",
      "Mediana:  290.0 \n",
      "Mínimo:  10 \n",
      "Máximo:  750000\n"
     ]
    }
   ],
   "source": [
    "# Apenas da ccoluna metragem\n",
    "\n",
    "media = data.Metragem.mean()\n",
    "mediana = data.Metragem.median()\n",
    "min_v = data.Metragem.min()\n",
    "max_v = data.Metragem.max()\n",
    "\n",
    "print('Media: ', media, \n",
    "      '\\nMediana: ', mediana, \n",
    "      '\\nMínimo: ', min_v, \n",
    "      '\\nMáximo: ', max_v)"
   ]
  },
  {
   "cell_type": "code",
   "execution_count": 326,
   "id": "2a4a5a98",
   "metadata": {},
   "outputs": [
    {
     "name": "stdout",
     "output_type": "stream",
     "text": [
      "Media:  3.8790967226219024 \n",
      "Mediana:  4.0 \n",
      "Mínimo:  1 \n",
      "Máximo:  40\n"
     ]
    }
   ],
   "source": [
    "# Apenas da ccoluna Banheiros\n",
    "\n",
    "media = data.Banheiros.mean()\n",
    "mediana = data.Banheiros.median()\n",
    "min_v = data.Banheiros.min()\n",
    "max_v = data.Banheiros.max()\n",
    "\n",
    "print('Media: ', media, \n",
    "      '\\nMediana: ', mediana, \n",
    "      '\\nMínimo: ', min_v, \n",
    "      '\\nMáximo: ', max_v)"
   ]
  },
  {
   "cell_type": "markdown",
   "id": "f4728090",
   "metadata": {},
   "source": [
    "5 - Descobrir quais são os bairros que não tem nome de rua. (Proposto pela Vivian)"
   ]
  },
  {
   "cell_type": "code",
   "execution_count": 327,
   "id": "862bd54f",
   "metadata": {},
   "outputs": [
    {
     "name": "stdout",
     "output_type": "stream",
     "text": [
      "<class 'pandas.core.series.Series'>\n",
      "RangeIndex: 10008 entries, 0 to 10007\n",
      "Series name: Bairro\n",
      "Non-Null Count  Dtype \n",
      "--------------  ----- \n",
      "9996 non-null   object\n",
      "dtypes: object(1)\n",
      "memory usage: 78.3+ KB\n"
     ]
    }
   ],
   "source": [
    "data.Bairro.info()"
   ]
  },
  {
   "cell_type": "code",
   "execution_count": 328,
   "id": "e2797077",
   "metadata": {},
   "outputs": [
    {
     "data": {
      "text/plain": [
       "Rua          3434\n",
       "Bairro         12\n",
       "Cidade          0\n",
       "Metragem        0\n",
       "Quartos         0\n",
       "Banheiros       0\n",
       "Vagas           0\n",
       "Valor           0\n",
       "dtype: int64"
      ]
     },
     "execution_count": 328,
     "metadata": {},
     "output_type": "execute_result"
    }
   ],
   "source": [
    "data.isnull().sum()"
   ]
  },
  {
   "cell_type": "code",
   "execution_count": 329,
   "id": "f2615a99",
   "metadata": {},
   "outputs": [
    {
     "data": {
      "text/plain": [
       "Rua                          Bairro                          \n",
       "Alameda Calicut              Chácara Santo Antônio (Zona Sul)    1\n",
       "Alameda Campinas             Jardim Paulista                     1\n",
       "Alameda Canuri               Planalto Paulista                   2\n",
       "Alameda Casa Branca          Jardim Paulista                     1\n",
       "Alameda Franca               Jardim Paulista                     4\n",
       "                                                                ..\n",
       "Travessa Saveiros de Maroim  Vila Constança                      2\n",
       "Travessa Umberto Bignardi    Paraíso                             2\n",
       "Viela Um                     Jardim Peri                         4\n",
       "Viela Um, 1059               Jardim Peri                         1\n",
       "Viela Um, 289                Jardim Peri                         2\n",
       "Length: 3179, dtype: int64"
      ]
     },
     "execution_count": 329,
     "metadata": {},
     "output_type": "execute_result"
    }
   ],
   "source": [
    "dados_de_bairro_e_rua = data.groupby(['Rua', 'Bairro']).size()\n",
    "dados_de_bairro_e_rua"
   ]
  },
  {
   "cell_type": "code",
   "execution_count": 330,
   "id": "a5ac0468",
   "metadata": {
    "scrolled": true
   },
   "outputs": [
    {
     "data": {
      "text/plain": [
       "\"dados_de_rua = data['Rua']\\n\\nfor i in dados_de_rua:\\n    if pd.isna(i):\\n        print(i)\""
      ]
     },
     "execution_count": 330,
     "metadata": {},
     "output_type": "execute_result"
    }
   ],
   "source": [
    "'''dados_de_rua = data['Rua']\n",
    "\n",
    "for i in dados_de_rua:\n",
    "    if pd.isna(i):\n",
    "        print(i)'''"
   ]
  },
  {
   "cell_type": "code",
   "execution_count": 347,
   "id": "3ff41b34",
   "metadata": {},
   "outputs": [
    {
     "data": {
      "text/plain": [
       "3       NaN\n",
       "11      NaN\n",
       "31      NaN\n",
       "56      NaN\n",
       "57      NaN\n",
       "       ... \n",
       "9963    NaN\n",
       "9989    NaN\n",
       "9991    NaN\n",
       "9995    NaN\n",
       "9999    NaN\n",
       "Name: Rua, Length: 3434, dtype: object"
      ]
     },
     "execution_count": 347,
     "metadata": {},
     "output_type": "execute_result"
    }
   ],
   "source": [
    "#Depois de horas tentando kkkk\n",
    "\n",
    "dados = data.loc[data['Rua'].isna(), 'Rua']\n",
    "dados"
   ]
  },
  {
   "cell_type": "code",
   "execution_count": null,
   "id": "733e2cd4",
   "metadata": {},
   "outputs": [],
   "source": []
  }
 ],
 "metadata": {
  "kernelspec": {
   "display_name": "Python 3 (ipykernel)",
   "language": "python",
   "name": "python3"
  },
  "language_info": {
   "codemirror_mode": {
    "name": "ipython",
    "version": 3
   },
   "file_extension": ".py",
   "mimetype": "text/x-python",
   "name": "python",
   "nbconvert_exporter": "python",
   "pygments_lexer": "ipython3",
   "version": "3.9.12"
  }
 },
 "nbformat": 4,
 "nbformat_minor": 5
}
